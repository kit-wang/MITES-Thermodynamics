{
  "nbformat": 4,
  "nbformat_minor": 0,
  "metadata": {
    "colab": {
      "name": "pset_2.ipynb",
      "provenance": []
    },
    "kernelspec": {
      "name": "python3",
      "display_name": "Python 3"
    },
    "language_info": {
      "name": "python"
    }
  },
  "cells": [
    {
      "cell_type": "markdown",
      "metadata": {
        "id": "FRMGMVJrbcA-"
      },
      "source": [
        "**RUN THIS CELL BEFORE DOING ANYTHING ELSE:**"
      ]
    },
    {
      "cell_type": "code",
      "metadata": {
        "colab": {
          "base_uri": "https://localhost:8080/"
        },
        "id": "oI8taU3nYrkm",
        "outputId": "2e9c5c44-0355-42e1-9d1e-2a5ed5747b1c"
      },
      "source": [
        "!pip3 install --upgrade git+https://github.com/ptgodart/nasaPoly.git\n",
        "%matplotlib inline"
      ],
      "execution_count": null,
      "outputs": [
        {
          "output_type": "stream",
          "name": "stdout",
          "text": [
            "Looking in indexes: https://pypi.org/simple, https://us-python.pkg.dev/colab-wheels/public/simple/\n",
            "Collecting git+https://github.com/ptgodart/nasaPoly.git\n",
            "  Cloning https://github.com/ptgodart/nasaPoly.git to /tmp/pip-req-build-b5dle0xx\n",
            "  Running command git clone -q https://github.com/ptgodart/nasaPoly.git /tmp/pip-req-build-b5dle0xx\n"
          ]
        }
      ]
    },
    {
      "cell_type": "markdown",
      "metadata": {
        "id": "I5NJf-lMYeHh"
      },
      "source": [
        "# Problem Set 2 - TEMPLATE (Create a copy before editing!)\n",
        "\n",
        "Thermodynamics and Climate Change\n",
        "\n",
        "MOSTEC 2021"
      ]
    },
    {
      "cell_type": "markdown",
      "metadata": {
        "id": "edM4m8NBYnH8"
      },
      "source": [
        "## Problem 4: Exploring Heat Capacity"
      ]
    },
    {
      "cell_type": "markdown",
      "metadata": {
        "id": "a5fgV5ipYnjU"
      },
      "source": [
        "## Part a:\n",
        "\n",
        "(enter solutions below)"
      ]
    },
    {
      "cell_type": "code",
      "metadata": {
        "colab": {
          "base_uri": "https://localhost:8080/"
        },
        "id": "CfeoQnAJY3_9",
        "outputId": "736b3fd5-19c0-497c-d2a9-ea77908b1bf9"
      },
      "source": [
        "import nasaPoly # for thermodynamic functions\n",
        "from matplotlib import pyplot as plt # for plotting\n",
        "import numpy as np # for general math stuff\n",
        "\n",
        "# Enter solutions below:\n",
        "\n",
        "print('Print final answers like this!')"
      ],
      "execution_count": null,
      "outputs": [
        {
          "output_type": "stream",
          "text": [
            "Print final answers like this!\n"
          ],
          "name": "stdout"
        }
      ]
    },
    {
      "cell_type": "markdown",
      "metadata": {
        "id": "t_G5xb2bY5Id"
      },
      "source": [
        "## Part b:"
      ]
    },
    {
      "cell_type": "code",
      "metadata": {
        "id": "NWbaSBF_ZOAw"
      },
      "source": [
        "import scipy.integrate as si\n",
        "\n",
        "# Enter solutions below:\n",
        "# (hint: you can integrate functions using si.quad(func, lower_bound, upper_bound))"
      ],
      "execution_count": null,
      "outputs": []
    },
    {
      "cell_type": "markdown",
      "metadata": {
        "id": "52SnCiH3ZJJG"
      },
      "source": [
        "## Part c:"
      ]
    },
    {
      "cell_type": "code",
      "metadata": {
        "id": "XDzsRNixZRbL"
      },
      "source": [
        "# Enter solutions below:"
      ],
      "execution_count": null,
      "outputs": []
    },
    {
      "cell_type": "markdown",
      "metadata": {
        "id": "qLC0x4HEZVKt"
      },
      "source": [
        "## Part d:"
      ]
    },
    {
      "cell_type": "code",
      "metadata": {
        "id": "ZycY1pEaZW-m"
      },
      "source": [
        "# Enter solutions below:"
      ],
      "execution_count": null,
      "outputs": []
    },
    {
      "cell_type": "markdown",
      "metadata": {
        "id": "PaJHHk6tZYqX"
      },
      "source": [
        "# Problem 5 (Challenge): Adiabatic Flame Temperature"
      ]
    },
    {
      "cell_type": "code",
      "metadata": {
        "id": "ni1xCt-mZgwz"
      },
      "source": [
        "# Enter solutions below:"
      ],
      "execution_count": null,
      "outputs": []
    }
  ]
}