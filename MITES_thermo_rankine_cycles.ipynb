{
  "nbformat": 4,
  "nbformat_minor": 0,
  "metadata": {
    "colab": {
      "name": "MITES_thermo_rankine_cycles.ipynb",
      "provenance": [],
      "collapsed_sections": [],
      "include_colab_link": true
    },
    "kernelspec": {
      "name": "python3",
      "display_name": "Python 3"
    },
    "language_info": {
      "name": "python"
    }
  },
  "cells": [
    {
      "cell_type": "markdown",
      "metadata": {
        "id": "view-in-github",
        "colab_type": "text"
      },
      "source": [
        "<a href=\"https://colab.research.google.com/github/kit-wang/MITES-Thermodynamics/blob/main/MITES_thermo_rankine_cycles.ipynb\" target=\"_parent\"><img src=\"https://colab.research.google.com/assets/colab-badge.svg\" alt=\"Open In Colab\"/></a>"
      ]
    },
    {
      "cell_type": "code",
      "metadata": {
        "colab": {
          "base_uri": "https://localhost:8080/"
        },
        "id": "bJpX2hTM2aBT",
        "outputId": "c281e756-fe79-4ceb-83d6-bca73a545291"
      },
      "source": [
        "!pip3 install coolprop"
      ],
      "execution_count": null,
      "outputs": [
        {
          "output_type": "stream",
          "name": "stdout",
          "text": [
            "Looking in indexes: https://pypi.org/simple, https://us-python.pkg.dev/colab-wheels/public/simple/\n",
            "Collecting coolprop\n",
            "  Downloading CoolProp-6.4.1-cp37-cp37m-manylinux_2_17_x86_64.manylinux2014_x86_64.whl (44.2 MB)\n",
            "\u001b[K     |████████████████████████████████| 44.2 MB 194 kB/s \n",
            "\u001b[?25hInstalling collected packages: coolprop\n",
            "Successfully installed coolprop-6.4.1\n"
          ]
        }
      ]
    },
    {
      "cell_type": "code",
      "source": [
        "from CoolProp.constants import PT_INPUTS\n",
        "import CoolProp as cp\n",
        "import numpy as np\n",
        "from matplotlib import pyplot as plt\n",
        "\n",
        "Water = cp.AbstractState('HEOS', 'Water')\n",
        "\n",
        "T_c = Water.T_critical() # K\n",
        "T_low = 273.15 # K\n",
        "\n",
        "T_sweep = np.linspace(T_low, T_c, 150)\n",
        "s_dome_left = []\n",
        "s_dome_right = []\n",
        "P_dome_left = []\n",
        "P_dome_right = []\n",
        "v_dome_left = []\n",
        "v_dome_right = []\n",
        "\n",
        "P_isobar = 5e5 # Pa\n",
        "T_isobar_sweep = np.linspace(T_low, T_c*2, 150)\n",
        "\n",
        "for T in T_sweep:\n",
        "  Water.update(cp.QT_INPUTS, 0, T)\n",
        "  s_dome_left.append(Water.smass())\n",
        "  P_dome_left.append(Water.p())\n",
        "  v_dome_left.append(1/Water.rhomass())\n",
        "  Water.update(cp.QT_INPUTS, 1, T)\n",
        "  s_dome_right.append(Water.smass())\n",
        "  P_dome_right.append(Water.p())\n",
        "  v_dome_right.append(1/Water.rhomass())\n",
        "\n",
        "s_isobar = []\n",
        "v_isobar = []\n",
        "\n",
        "for T in T_isobar_sweep:\n",
        "  Water.update(cp.PT_INPUTS, P_isobar, T)\n",
        "  s_isobar.append(Water.smass())\n",
        "  v_isobar.append(1/Water.rhomass())\n",
        "\n",
        "Water.update(cp.PQ_INPUTS, 5e5, 1)\n",
        "h_v = Water.hmass()\n",
        "Water.update(cp.PQ_INPUTS, 5e5, 0)\n",
        "h_l = Water.hmass()\n",
        "latent_heat = h_v - h_l\n",
        "print(f'Latent heat of water at 5 bar is {latent_heat/1e6:.3g} MJ/kg.')\n",
        "\n",
        "plt.plot(s_dome_left, T_sweep, '--', color='black')\n",
        "plt.plot(s_dome_right, T_sweep, '--', color='black', label='vapor dome')\n",
        "plt.plot(s_isobar, T_isobar_sweep)\n",
        "plt.xlabel('$s$ [J/kg-K]')\n",
        "plt.ylabel('$T$ [K]')\n",
        "plt.legend()\n",
        "plt.show()\n",
        "\n",
        "plt.plot(v_dome_left, P_dome_left, '--', color='black')\n",
        "plt.plot(v_dome_right, P_dome_right, '--', color='black', label='vapor dome')\n",
        "plt.plot(v_isobar, [P_isobar for v in v_isobar])\n",
        "plt.xlabel('$v$ [m^3/kg]')\n",
        "plt.ylabel('$P$ [Pa]')\n",
        "plt.xlim([0, 5])\n",
        "plt.legend()\n",
        "plt.show()"
      ],
      "metadata": {
        "colab": {
          "base_uri": "https://localhost:8080/",
          "height": 578
        },
        "id": "DTJVGv7Jcwy0",
        "outputId": "cb7f8c34-1ba5-4e48-f649-8d891ba03a0d"
      },
      "execution_count": null,
      "outputs": [
        {
          "output_type": "stream",
          "name": "stdout",
          "text": [
            "Latent heat of water at 5 bar is 2.11 MJ/kg.\n"
          ]
        },
        {
          "output_type": "display_data",
          "data": {
            "text/plain": [
              "<Figure size 432x288 with 1 Axes>"
            ],
            "image/png": "[encoded data removed]"
          },
          "metadata": {
            "needs_background": "light"
          }
        },
        {
          "output_type": "display_data",
          "data": {
            "text/plain": [
              "<Figure size 432x288 with 1 Axes>"
            ],
            "image/png": "[encoded data removed]"
          },
          "metadata": {
            "needs_background": "light"
          }
        }
      ]
    },
    {
      "cell_type": "code",
      "metadata": {
        "id": "wMpFqyCr2n1l",
        "colab": {
          "base_uri": "https://localhost:8080/",
          "height": 334
        },
        "outputId": "34aefd54-cbc8-4e79-b2ec-054935230c06"
      },
      "source": [
        "import CoolProp as cp\n",
        "import numpy as np\n",
        "from matplotlib import pyplot as plt\n",
        "\n",
        "Water = cp.AbstractState('HEOS', 'Water')\n",
        "\n",
        "T_dome = np.linspace(273.06, Water.T_critical()*0.99999, 250)\n",
        "s_l_dome = []\n",
        "h_l_dome = []\n",
        "s_v_dome = []\n",
        "h_v_dome = []\n",
        "for T in T_dome:\n",
        "  Water.update(cp.QT_INPUTS, 0, T)\n",
        "  s_l_dome.append(Water.smass())\n",
        "  h_l_dome.append(Water.hmass())\n",
        "  Water.update(cp.QT_INPUTS, 1, T)\n",
        "  s_v_dome.append(Water.smass())\n",
        "  h_v_dome.append(Water.hmass())\n",
        "\n",
        "# Given:\n",
        "P_1 = 101325 # Pa\n",
        "P_2 = P_1 * 100 # Pa\n",
        "P_4 = P_1 # Isobaric condensation\n",
        "T_1 = 365 # K\n",
        "T_2 = T_1 # K (Isothermal pumping)\n",
        "T_boiler = 800 # K\n",
        "T_3 = T_boiler # K\n",
        "\n",
        "# Simulate rankine cycle\n",
        "s_cycle = []\n",
        "u_cycle = []\n",
        "T_cycle = []\n",
        "P_cycle = []\n",
        "h_cycle = []\n",
        "# 1->2: Isothermal compression\n",
        "Water.update(cp.PT_INPUTS, P_1, T_1)\n",
        "h_1 = Water.hmass()\n",
        "u_1 = Water.umass()\n",
        "s_1 = Water.smass()\n",
        "for P in np.linspace(P_1, P_2, 250):\n",
        "  Water.update(cp.PT_INPUTS, P, T_1)\n",
        "  s_cycle.append(Water.smass())\n",
        "  u_cycle.append(Water.umass())\n",
        "  T_cycle.append(Water.T())\n",
        "  P_cycle.append(Water.p())\n",
        "  h_cycle.append(Water.hmass())\n",
        "h_2 = h_cycle[-1]\n",
        "u_2 = u_cycle[-1]\n",
        "s_2 = s_cycle[-1]\n",
        "# 2->3: Isobaric evaporation\n",
        "for T in np.linspace(T_2, T_3, 250):\n",
        "  Water.update(cp.PT_INPUTS, P_2, T)\n",
        "  s_cycle.append(Water.smass())\n",
        "  u_cycle.append(Water.umass())\n",
        "  T_cycle.append(Water.T())\n",
        "  P_cycle.append(Water.p())\n",
        "  h_cycle.append(Water.hmass())\n",
        "h_3 = h_cycle[-1]\n",
        "u_3 = u_cycle[-1]\n",
        "s_3 = s_cycle[-1]\n",
        "P_3 = P_cycle[-1]\n",
        "# 3->4: Isentropic expansion through turbine\n",
        "for P in np.linspace(P_3, P_4, 250):\n",
        "  Water.update(cp.PSmass_INPUTS, P, s_3)\n",
        "  s_cycle.append(Water.smass())\n",
        "  u_cycle.append(Water.umass())\n",
        "  T_cycle.append(Water.T())\n",
        "  P_cycle.append(Water.p())\n",
        "  h_cycle.append(Water.hmass())\n",
        "h_4 = h_cycle[-1]\n",
        "u_4 = u_cycle[-1]\n",
        "s_4 = s_cycle[-1]\n",
        "T_4 = T_cycle[-1]\n",
        "# 4->1: Isobaric condensation\n",
        "for s in np.linspace(s_4, s_1, 250):\n",
        "  Water.update(cp.PSmass_INPUTS, P_4, s)\n",
        "  s_cycle.append(Water.smass())\n",
        "  u_cycle.append(Water.umass())\n",
        "  T_cycle.append(Water.T())\n",
        "  P_cycle.append(Water.p())\n",
        "  h_cycle.append(Water.hmass())\n",
        "# END SIMULATION\n",
        "\n",
        "# Plot vapor dome\n",
        "plt.plot(s_l_dome, T_dome, '--', color='black')\n",
        "plt.plot(s_v_dome, T_dome, '--', color='black', label='Water Vapor Dome')\n",
        "# Plot cycle\n",
        "plt.plot(s_cycle, T_cycle, '-', color='tab:blue')\n",
        "plt.plot(s_1, T_1, 'o', color='red')\n",
        "plt.annotate('1', (s_1*1.05, T_1*1.05))\n",
        "plt.plot(s_2, T_2, 'o', color='red')\n",
        "plt.annotate('2', (s_2, T_2))\n",
        "plt.plot(s_3, T_3, 'o', color='red')\n",
        "plt.annotate('3', (s_3, T_3))\n",
        "plt.plot(s_4, T_4, 'o', color='red')\n",
        "plt.annotate('4', (s_4, T_4))\n",
        "#plt.plot(s_4, T_4, 'o', color='red')\n",
        "plt.legend()\n",
        "plt.xlabel('$s$ [J/kg-K]')\n",
        "plt.ylabel('$T$ [K]')\n",
        "plt.savefig('name_of_fig.png', dpi=400)\n",
        "plt.show()\n",
        "\n",
        "w_dot_net = (h_3 - h_4) + (h_1 - h_2) # W/kg\n",
        "q_dot_in = (h_3 - h_2) # W/kg\n",
        "eta_rankine = w_dot_net / q_dot_in\n",
        "eta_carnot = 1 - T_1 / T_boiler\n",
        "\n",
        "print(f'Rankine first law efficiency = {eta_rankine:0.3g}')\n",
        "print(f'Carnot efficiency = {eta_carnot:0.3g}')\n",
        "print(f'Second law efficiency = {eta_rankine / eta_carnot:0.3g}') # <- how high can you get this changing P_2, T_boiler, T_1?"
      ],
      "execution_count": null,
      "outputs": [
        {
          "output_type": "display_data",
          "data": {
            "image/png": "[encoded data removed]",
            "text/plain": [
              "<Figure size 432x288 with 1 Axes>"
            ]
          },
          "metadata": {
            "tags": [],
            "needs_background": "light"
          }
        },
        {
          "output_type": "stream",
          "text": [
            "Rankine first law efficiency = 0.331\n",
            "Carnot efficiency = 0.544\n",
            "Second law efficiency = 0.61\n"
          ],
          "name": "stdout"
        }
      ]
    }
  ]
}