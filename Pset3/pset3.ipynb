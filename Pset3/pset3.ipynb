{
  "nbformat": 4,
  "nbformat_minor": 0,
  "metadata": {
    "colab": {
      "name": "pset3.ipynb",
      "provenance": [],
      "collapsed_sections": []
    },
    "kernelspec": {
      "name": "python3",
      "display_name": "Python 3"
    },
    "language_info": {
      "name": "python"
    }
  },
  "cells": [
    {
      "cell_type": "markdown",
      "metadata": {
        "id": "kKjZobT2_Fje"
      },
      "source": [
        "**RUN THIS CELL BEFORE DOING ANYTHING ELSE:**"
      ]
    },
    {
      "cell_type": "code",
      "metadata": {
        "colab": {
          "base_uri": "https://localhost:8080/"
        },
        "id": "Daz5mI3x-8Eb",
        "outputId": "7feff499-1849-4049-d386-e9484edd0e99"
      },
      "source": [
        "!pip3 install --upgrade git+https://github.com/ptgodart/nasaPoly.git\n",
        "%matplotlib inline\n",
        "import nasaPoly # for thermodynamic functions\n",
        "from matplotlib import pyplot as plt # for plotting\n",
        "import numpy as np # for general math stuff\n",
        "\n",
        "# nasaPoly.listSpecies()"
      ],
      "execution_count": null,
      "outputs": [
        {
          "output_type": "stream",
          "name": "stdout",
          "text": [
            "Looking in indexes: https://pypi.org/simple, https://us-python.pkg.dev/colab-wheels/public/simple/\n",
            "Collecting git+https://github.com/ptgodart/nasaPoly.git\n",
            "  Cloning https://github.com/ptgodart/nasaPoly.git to /tmp/pip-req-build-fe0spdup\n",
            "  Running command git clone -q https://github.com/ptgodart/nasaPoly.git /tmp/pip-req-build-fe0spdup\n",
            "Building wheels for collected packages: nasaPoly\n",
            "  Building wheel for nasaPoly (setup.py) ... \u001b[?25l\u001b[?25hdone\n",
            "  Created wheel for nasaPoly: filename=nasaPoly-0.0.1-py3-none-any.whl size=275528 sha256=4ba072f70eff0ea335724532ea1d58ad2ee6073466e95b5aa1cda91ec4a2a0d4\n",
            "  Stored in directory: /tmp/pip-ephem-wheel-cache-4kdid1hn/wheels/0d/3b/36/9129e6f4450281e6d729bb6c955067eab00b0c9c63a572818c\n",
            "Successfully built nasaPoly\n",
            "Installing collected packages: nasaPoly\n",
            "Successfully installed nasaPoly-0.0.1\n"
          ]
        }
      ]
    },
    {
      "cell_type": "markdown",
      "metadata": {
        "id": "jVQUedBV_JeI"
      },
      "source": [
        "# Problem Set 3 - TEMPLATE (Create a copy before editing!)\n",
        "\n",
        "Thermodynamics and Climate Change\n",
        "\n",
        "MITES 2022"
      ]
    },
    {
      "cell_type": "markdown",
      "metadata": {
        "id": "f5Ksd9qA_MtR"
      },
      "source": [
        "## Problem 4: Exploring Entropy"
      ]
    },
    {
      "cell_type": "code",
      "source": [
        ""
      ],
      "metadata": {
        "id": "UPJ62ZUOA1em"
      },
      "execution_count": null,
      "outputs": []
    },
    {
      "cell_type": "markdown",
      "metadata": {
        "id": "J0VZHcgO_PCC"
      },
      "source": [
        "### Part a:"
      ]
    },
    {
      "cell_type": "code",
      "metadata": {
        "colab": {
          "base_uri": "https://localhost:8080/"
        },
        "id": "4AfqGqfI_Sf0",
        "outputId": "c637b512-4564-40f2-a6c5-f8d76196ca47"
      },
      "source": [
        "# import scipy.integrate as si\n",
        "from scipy.integrate import quad\n",
        "# Enter solutions below:\n",
        "# -----------------------------------------------\n",
        "\n",
        "CO2 = nasaPoly.Species('CO2')\n",
        "R = 8.3145 / CO2.molecular_wt # J / g-K\n",
        "T1 = 600 # K\n",
        "T2 = 400 # K\n",
        "P1 = 10 # bar\n",
        "P2 = 1 # bar\n",
        "\n",
        "def integrand1(T):\n",
        "    return CO2.cp_0(T) / T\n",
        "\n",
        "def integrand2(P):\n",
        "    return 1.0 / P\n",
        "\n",
        "entropy = abs(quad(integrand1, T1, T2)[0] - R * quad(integrand2, P1, P2)[0])\n",
        "print(f\"The change in entropy induced by the given expansion is {entropy} J/K.\") # check units here "
      ],
      "execution_count": null,
      "outputs": [
        {
          "output_type": "stream",
          "name": "stdout",
          "text": [
            "The change in entropy induced by the given expansion is 17.536097337092418 J/K.\n"
          ]
        }
      ]
    },
    {
      "cell_type": "markdown",
      "metadata": {
        "id": "IcxUC0gX_c0B"
      },
      "source": [
        "### Part b:"
      ]
    },
    {
      "cell_type": "code",
      "metadata": {
        "id": "occ84QeE_gCD",
        "colab": {
          "base_uri": "https://localhost:8080/"
        },
        "outputId": "037b8b81-6b09-4fd0-90cd-b57e04e13f9c"
      },
      "source": [
        "# Enter solutions below:\n",
        "# -----------------------------------------------\n",
        "T1 = 300 # K\n",
        "T2 = 700 # K\n",
        "V1 = 4 # m^3 / mol\n",
        "V2 = 2 # m^3 / mol\n",
        "\n",
        "def integrand1(T):\n",
        "    return (CO2.cp_0(T) - R) / T\n",
        "\n",
        "def integrand2(V):\n",
        "    return 1.0 / V\n",
        "\n",
        "entropy = (quad(integrand1, T1, T2)[0] + R * quad(integrand2, V1, V2)[0])\n",
        "print(f\"The change in entropy induced by the given compression is {entropy} J/K.\")"
      ],
      "execution_count": null,
      "outputs": [
        {
          "output_type": "stream",
          "name": "stdout",
          "text": [
            "The change in entropy induced by the given compression is 36.439801656134385 J/K.\n"
          ]
        }
      ]
    },
    {
      "cell_type": "markdown",
      "metadata": {
        "id": "fM3ClMcr_hW0"
      },
      "source": [
        "### Part c:"
      ]
    },
    {
      "cell_type": "code",
      "metadata": {
        "id": "Yfr_G7v6_jSN",
        "colab": {
          "base_uri": "https://localhost:8080/"
        },
        "outputId": "036d1503-b2c3-4fb2-be0c-31b1c840e998"
      },
      "source": [
        "# Enter solutions below:\n",
        "# -----------------------------------------------\n",
        "# Since the heat transfer is isobaric, P1 = P2, therefore the second integral will evaluate to 0\n",
        "\n",
        "T1 = 600 # K\n",
        "T2 = 900 # K\n",
        "P1 = 1 # bar\n",
        "P2 = 1 # bar\n",
        "\n",
        "def integrand1(T):\n",
        "    return (CO2.cp_0(T)) / T\n",
        "\n",
        "def integrand2(P):\n",
        "    return 1.0 / P\n",
        "\n",
        "entropy = (quad(integrand1, T1, T2)[0] - R * quad(integrand2, P1, P2)[0])\n",
        "print(f\"The change in entropy induced by the given isobaric heating process is {entropy} J/K.\")"
      ],
      "execution_count": null,
      "outputs": [
        {
          "output_type": "stream",
          "name": "stdout",
          "text": [
            "The change in entropy induced by the given isobaric heating process is 20.362987362115646 J/K.\n"
          ]
        }
      ]
    },
    {
      "cell_type": "markdown",
      "metadata": {
        "id": "aGO8mJlaANvW"
      },
      "source": [
        "## Challenge Problem: Non-Isothermal Gas Mixing"
      ]
    },
    {
      "cell_type": "markdown",
      "metadata": {
        "id": "rpsgKmIrAaH7"
      },
      "source": [
        "### Part a:"
      ]
    },
    {
      "cell_type": "code",
      "metadata": {
        "id": "C7AyeumeAiW6",
        "colab": {
          "base_uri": "https://localhost:8080/"
        },
        "outputId": "df7ae209-afcd-4558-c5ff-8ddf59b35ed0"
      },
      "source": [
        "# Enter solutions below:\n",
        "# Nitrogen sample\n",
        "Nitrogen = nasaPoly.Species('N2')\n",
        "# V1 = (m * R * T1) / P1\n",
        "R1 = 8.3145 / Nitrogen.molecular_wt # J/g-K\n",
        "m1 = 2000 # g\n",
        "T1 = 400 # K\n",
        "P1 = 5 * 100000 # Pa --> J / Pa = m^3 \n",
        "V1 = (m1 * R1 * T1) / P1 \n",
        "print(f\"The N2 has an initial volume of {V1} m^3.\")\n",
        "\n",
        "CO2 = nasaPoly.Species('CO2')\n",
        "# V2 = (m * R * T2) / P2\n",
        "R2 = 8.3145 / CO2.molecular_wt # J/g-K\n",
        "m2 = 1000 # g\n",
        "T2 = 600 # K\n",
        "P2 = 10 * 100000 # Pa\n",
        "V2 = (m2 * R2 * T2) / P2 \n",
        "print(f\"The CO2 has an initial volume of {V2} m^3.\")"
      ],
      "execution_count": null,
      "outputs": [
        {
          "output_type": "stream",
          "name": "stdout",
          "text": [
            "The N2 has an initial volume of 0.4748856621883465 m^3.\n",
            "The CO2 has an initial volume of 0.11335507106420205 m^3.\n"
          ]
        }
      ]
    },
    {
      "cell_type": "markdown",
      "metadata": {
        "id": "mZEsmUXlAchE"
      },
      "source": [
        "### Part b:"
      ]
    },
    {
      "cell_type": "code",
      "metadata": {
        "id": "FH87zlYEAjUi",
        "colab": {
          "base_uri": "https://localhost:8080/"
        },
        "outputId": "254e9f2a-aa15-495d-dd96-e99f7c07e85d"
      },
      "source": [
        "# Enter solutions below:\n",
        "# From the first law, U_2 = U_1 since no heat or work is exchanged with the environment\n",
        "# Therefore, m * (X_n2 * c_v,1 + (1 - X_n2)*c_v,2) * T = m (X_n2 * c_v,1 * T1 + (1 - X_n2)*c_v,2 * T2)\n",
        "m = 3 # kg\n",
        "X_n2 = m1 / 3000.0 \n",
        "X_co2 = m2 / 3000.0 \n",
        "benchmark = m * ((X_n2 * (Nitrogen.cp_0(T1) - R1) * T1) + ((1 - X_n2) * (CO2.cp_0(T2) - R2) * T2))\n",
        "print(benchmark)\n",
        "# Implementing Newton's method of approximation\n",
        "# def eval(tgt, guess): # 0.0001 is error margin\n",
        "#     if abs((guess * (m * (X_n2 * (Nitrogen.cp_0(T1) - R1)) + ((1 - X_n2) * (CO2.cp_0(T2) - R2))) - tgt) / tgt) < 0.0001:\n",
        "#         return guess\n",
        "#     else:\n",
        "#         guess = (tgt / guess + guess) / 2\n",
        "#         # print((m * (X_n2 * (Nitrogen.cp_0(T1) - R1)) + ((1 - X_n2) * (CO2.cp_0(T2) - R2)) * guess))\n",
        "#         return eval(tgt, guess)\n",
        "\n",
        "# T_final = eval(benchmark, 500)\n",
        "# print(T_final)\n",
        "\n",
        "# Iterative approach\n",
        "guess = 100 # K \n",
        "while (guess < 1000 and not (abs((guess * (m * (X_n2 * (Nitrogen.cp_0(T1) - R1)) + ((1 - X_n2) * (CO2.cp_0(T2) - R2))) - benchmark) / benchmark) < 0.0001)):\n",
        "    # print(abs((guess * (m * (X_n2 * (Nitrogen.cp_0(T1) - R1)) + ((1 - X_n2) * (CO2.cp_0(T2) - R2))))))\n",
        "    guess += 0.3\n",
        "T_final = guess - 0.3\n",
        "print(f\"The final temperature will be {T_final} K.\")\n",
        "print(f\"The final pressure at equilibrium will be {T_final * (X_n2 * R1 + X_co2 * R2) / (V1 + V2)} Pa.\")\n"
      ],
      "execution_count": null,
      "outputs": [
        {
          "output_type": "stream",
          "name": "stdout",
          "text": [
            "51441.652787386935\n",
            "The final temperature will be 698.499999999986 K.\n",
            "The final pressure at equilibrium will be 309.7364214627267\n"
          ]
        }
      ]
    },
    {
      "cell_type": "markdown",
      "metadata": {
        "id": "AHMCuFuOAfen"
      },
      "source": [
        "### Part c:"
      ]
    },
    {
      "cell_type": "code",
      "metadata": {
        "id": "VeJJOs-IAjr6",
        "colab": {
          "base_uri": "https://localhost:8080/"
        },
        "outputId": "e3036cfc-63eb-45df-b89e-8af8012d6890"
      },
      "source": [
        "# Enter solutions below:\n",
        "V = V1 + V2\n",
        "# Since change in entropy = \\int dQ/T + Sgen and there is no heat or work done, the change in entropy = Sgen\n",
        "S = m1 * R1 * np.log(V / V1) + m2 * R2 * np.log(V / V2)\n",
        "S_ext = m * (R1 * (m1 / m) * np.log(V / V1) + (m2 / m) * R2 * np.log(V / V2))\n",
        "# print(f\"The entropy generated in this process is {S} J/K\") yields the same answer\n",
        "print(f\"The entropy generated in this process is {S_ext} J/K\")"
      ],
      "execution_count": null,
      "outputs": [
        {
          "output_type": "stream",
          "name": "stdout",
          "text": [
            "The entropy generated in this process is 438.1550517403191 J/K\n"
          ]
        }
      ]
    },
    {
      "cell_type": "markdown",
      "metadata": {
        "id": "KBh0opomAgTw"
      },
      "source": [
        "### Part d:"
      ]
    },
    {
      "cell_type": "code",
      "metadata": {
        "id": "eoOaNOV7AkBy",
        "colab": {
          "base_uri": "https://localhost:8080/"
        },
        "outputId": "faaa4288-cd16-4515-c591-16d7de7b6703"
      },
      "source": [
        "# Enter solutions below:\n",
        "# Assuming separation occurring isothermally\n",
        "# W_min = -mRT * \\sum (X_i * ln X_i)\n",
        "T = 300 # K\n",
        "W_min = (-1 * (3000 * R1 * T) * (X_n2 * np.log(X_n2) )+ (-1 * (3000 * R2 * T) * (X_co2 * np.log(X_co2))))\n",
        "\n",
        "print(f\"The minimum work required to separate these gases isothermally at 300 K is {W_min / 1000} kJ.\")"
      ],
      "execution_count": null,
      "outputs": [
        {
          "output_type": "stream",
          "name": "stdout",
          "text": [
            "The minimum work required to separate these gases isothermally at 300 K is 134.47272441132029 kJ.\n"
          ]
        }
      ]
    },
    {
      "cell_type": "code",
      "source": [
        ""
      ],
      "metadata": {
        "id": "DbLAmNIx0vAJ"
      },
      "execution_count": null,
      "outputs": []
    }
  ]
}